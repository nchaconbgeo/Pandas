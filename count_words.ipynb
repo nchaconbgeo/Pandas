{
 "cells": [
  {
   "cell_type": "markdown",
   "metadata": {},
   "source": [
    "Calculate the frequency of words in several articles of magazines"
   ]
  },
  {
   "cell_type": "code",
   "execution_count": 1,
   "metadata": {},
   "outputs": [],
   "source": [
    "def freq(str):  \n",
    "    str2 = [] \n",
    "    nombres = []\n",
    "    valor = []\n",
    "    valorm = []\n",
    "    for i in str:              \n",
    "        if i not in str2: \n",
    "            str2.append(i)         \n",
    "    for i in range(0, len(str2)): \n",
    "        nombres.append(str2[i])\n",
    "        valor.append(str.count(str2[i]))\n",
    "    valorm.append(valor)\n",
    "    return nombres,valorm"
   ]
  },
  {
   "cell_type": "code",
   "execution_count": 7,
   "metadata": {},
   "outputs": [],
   "source": [
    "import os\n",
    "import spacy \n",
    "import pandas as pd\n",
    "from pandas import ExcelWriter\n",
    "from spacy.lang.en import English\n",
    "Path = \"/Users/natalychacon/Documents/Vale/Noticias_BBC/prueba/\"\n",
    "frames = []\n",
    "filelist = os.listdir(Path)\n",
    "for i in filelist:\n",
    "    if i.endswith(\".txt\"):  # You could also add \"and i.startswith('f')\n",
    "        with open(Path + i, 'r') as f:\n",
    "            lines = f.read()\n",
    "            lines = lines.lower()\n",
    "            nlp = English()\n",
    "            doc = nlp(lines)\n",
    "            data=[token.orth_ for token in doc if not token.is_punct | token.is_space]\n",
    "            nombres,valor=freq(data)\n",
    "            frame=pd.DataFrame(valor, columns = nombres,index=[i])\n",
    "            frames.append(frame)\n",
    "frames=pd.concat(frames, axis=0,sort=True)\n",
    "frames\n",
    "#list(frames.columns)\n",
    "#s = frames['render']\n",
    "#print(s)\n",
    "frames.to_excel(ExcelWriter(\"/Users/natalychacon/Documents/Vale/Noticias_BBC/datos/pruebas.xlsx\"))"
   ]
  }
 ],
 "metadata": {
  "kernelspec": {
   "display_name": "Python 3",
   "language": "python",
   "name": "python3"
  },
  "language_info": {
   "codemirror_mode": {
    "name": "ipython",
    "version": 3
   },
   "file_extension": ".py",
   "mimetype": "text/x-python",
   "name": "python",
   "nbconvert_exporter": "python",
   "pygments_lexer": "ipython3",
   "version": "3.7.4"
  }
 },
 "nbformat": 4,
 "nbformat_minor": 2
}
